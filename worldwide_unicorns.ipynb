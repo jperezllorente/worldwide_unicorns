{
 "cells": [
  {
   "cell_type": "code",
   "execution_count": 23,
   "metadata": {},
   "outputs": [],
   "source": [
    "import pandas as pd\n",
    "import numpy as np\n",
    "pd.options.display.max_colwidth = 100"
   ]
  },
  {
   "cell_type": "code",
   "execution_count": 2,
   "metadata": {},
   "outputs": [],
   "source": [
    "data = pd.read_csv('data\\\\unicorn_companies.csv')"
   ]
  },
  {
   "cell_type": "code",
   "execution_count": 3,
   "metadata": {},
   "outputs": [
    {
     "data": {
      "text/plain": [
       "(1074, 10)"
      ]
     },
     "execution_count": 3,
     "metadata": {},
     "output_type": "execute_result"
    }
   ],
   "source": [
    "data.shape"
   ]
  },
  {
   "cell_type": "code",
   "execution_count": 4,
   "metadata": {},
   "outputs": [
    {
     "data": {
      "text/plain": [
       "Company             object\n",
       "Valuation           object\n",
       "Date Joined         object\n",
       "Industry            object\n",
       "City                object\n",
       "Country             object\n",
       "Continent           object\n",
       "Year Founded         int64\n",
       "Funding             object\n",
       "Select Investors    object\n",
       "dtype: object"
      ]
     },
     "execution_count": 4,
     "metadata": {},
     "output_type": "execute_result"
    }
   ],
   "source": [
    "data.dtypes"
   ]
  },
  {
   "cell_type": "code",
   "execution_count": 3,
   "metadata": {},
   "outputs": [],
   "source": [
    "data.fillna('Unknown', inplace=True)"
   ]
  },
  {
   "cell_type": "code",
   "execution_count": 4,
   "metadata": {},
   "outputs": [
    {
     "data": {
      "text/plain": [
       "Fintech                                224\n",
       "Internet software & services           205\n",
       "E-commerce & direct-to-consumer        111\n",
       "Health                                  74\n",
       "Artificial intelligence                 73\n",
       "Other                                   58\n",
       "Supply chain, logistics, & delivery     57\n",
       "Cybersecurity                           50\n",
       "Data management & analytics             41\n",
       "Mobile & telecommunications             38\n",
       "Hardware                                34\n",
       "Auto & transportation                   31\n",
       "Edtech                                  28\n",
       "Consumer & retail                       25\n",
       "Travel                                  14\n",
       "Artificial Intelligence                 11\n",
       "Name: Industry, dtype: int64"
      ]
     },
     "execution_count": 4,
     "metadata": {},
     "output_type": "execute_result"
    }
   ],
   "source": [
    "data.Industry.value_counts()"
   ]
  },
  {
   "cell_type": "markdown",
   "metadata": {},
   "source": [
    "There are are two entries for Aritificial Intelligence only differencing in the capsize of the Intelligence"
   ]
  },
  {
   "cell_type": "code",
   "execution_count": 5,
   "metadata": {},
   "outputs": [],
   "source": [
    "data['Industry'] = data['Industry'].replace(to_replace='Artificial intelligence', value='Artificial Intelligence', regex=True)"
   ]
  },
  {
   "cell_type": "markdown",
   "metadata": {},
   "source": [
    "### Valuation and Funding are monetary values and appear as strings -> need to change the value format to integer (x1,000,000,000 if B and 1,000,000 if M)"
   ]
  },
  {
   "cell_type": "code",
   "execution_count": 6,
   "metadata": {},
   "outputs": [],
   "source": [
    "def changing_to_monetary(row,column):\n",
    "    if row[column] == 'Unknown':\n",
    "        return 0\n",
    "    elif 'M' in row[column]:\n",
    "        return int(row[column][1:][:-1])*1000000\n",
    "    elif 'B' in row[column]:\n",
    "        return int(row[column][1:][:-1])*1000000000"
   ]
  },
  {
   "cell_type": "code",
   "execution_count": 7,
   "metadata": {},
   "outputs": [],
   "source": [
    "data['valuation'] = data.apply(lambda row: changing_to_monetary(row,'Valuation'),axis=1)"
   ]
  },
  {
   "cell_type": "code",
   "execution_count": 8,
   "metadata": {},
   "outputs": [],
   "source": [
    "data['funding'] = data.apply(lambda row: changing_to_monetary(row,'Funding'),axis=1)"
   ]
  },
  {
   "cell_type": "code",
   "execution_count": 9,
   "metadata": {},
   "outputs": [],
   "source": [
    "data['investors'] = data.apply(lambda row: row['Select Investors'].split(','), axis=1)"
   ]
  },
  {
   "cell_type": "code",
   "execution_count": 10,
   "metadata": {},
   "outputs": [],
   "source": [
    "data_investors = data.explode('investors')"
   ]
  },
  {
   "cell_type": "code",
   "execution_count": 14,
   "metadata": {},
   "outputs": [],
   "source": [
    "data_investors['investors'] = data_investors.apply(lambda row: row['investors'].strip().upper(),axis=1)"
   ]
  },
  {
   "cell_type": "code",
   "execution_count": 24,
   "metadata": {},
   "outputs": [],
   "source": [
    "def group_investors(row):\n",
    "    \n",
    "    investor_list = ['500 Startups','Accel', 'Activant', 'Alibaba Group', 'Baidu Capital',\n",
    "                 'Bain', 'Bank Of China', 'Bertelsmann', 'Bond Capital', 'Coatue',\n",
    "                'D1 Capital Partners','DFJ', 'Dragonfly Capital Partners', 'Draper Fisher Juvertson',\n",
    "                'Eastern Bell Capital', 'Eqt Partners', 'Fidelity Investments', 'Ftx Ventures', 'Goldman Sachs',\n",
    "                'Google', 'Hanaco Venture Capital','Highland Capital Partners','Iconiq Capital', 'Idg Capital Partners',\n",
    "                'Insight Venture Partner', 'Jd Capital Management','K2 Venutes', 'Kleiner Perkins Caufield & Byers',\n",
    "                'Lightspeed Partners', 'Lowercase Capital', 'Matrix Partners', 'Maverick Capital','Mayfield Fund', \n",
    "                 'Micrososft','Mithril Capital Management', 'Morningside Group','Paladin Capital Group', \n",
    "                 'Providence Equity Partners','Rakuten','Redpoint Ventures','Revolution', 'Saif Parthners', 'Sbi Investment',\n",
    "                'Sequoia Capital','Shenzen Capital Group']\n",
    "    \n",
    "    count = 0\n",
    "    for number in range(0, len(investor_list)):\n",
    "        count+=1\n",
    "        if count < len(investor_list):\n",
    "            if investor_list[number].upper() in row['investors']:\n",
    "                return investor_list[number].upper()\n",
    "            else:\n",
    "                pass\n",
    "        elif count >= len(investor_list):\n",
    "            return row['investors']\n",
    "\n",
    "            \n",
    "        "
   ]
  },
  {
   "cell_type": "code",
   "execution_count": 33,
   "metadata": {},
   "outputs": [],
   "source": [
    "data_investors['investor']=data_investors.apply(lambda row: group_investors(row), axis=1)"
   ]
  },
  {
   "cell_type": "code",
   "execution_count": 37,
   "metadata": {},
   "outputs": [],
   "source": [
    "data_investors.to_csv('C:\\\\Users\\\\juanp\\\\proyectos_varios\\\\worldwide_unicorns\\\\data\\\\investors.csv')"
   ]
  },
  {
   "cell_type": "code",
   "execution_count": 39,
   "metadata": {},
   "outputs": [],
   "source": [
    "data_investors = pd.read_csv('data\\\\investors.csv')"
   ]
  },
  {
   "cell_type": "code",
   "execution_count": 41,
   "metadata": {},
   "outputs": [
    {
     "data": {
      "text/html": [
       "<div>\n",
       "<style scoped>\n",
       "    .dataframe tbody tr th:only-of-type {\n",
       "        vertical-align: middle;\n",
       "    }\n",
       "\n",
       "    .dataframe tbody tr th {\n",
       "        vertical-align: top;\n",
       "    }\n",
       "\n",
       "    .dataframe thead th {\n",
       "        text-align: right;\n",
       "    }\n",
       "</style>\n",
       "<table border=\"1\" class=\"dataframe\">\n",
       "  <thead>\n",
       "    <tr style=\"text-align: right;\">\n",
       "      <th></th>\n",
       "      <th>Unnamed: 0.1</th>\n",
       "      <th>Unnamed: 0</th>\n",
       "      <th>Company</th>\n",
       "      <th>Valuation</th>\n",
       "      <th>Date Joined</th>\n",
       "      <th>Industry</th>\n",
       "      <th>City</th>\n",
       "      <th>Country</th>\n",
       "      <th>Continent</th>\n",
       "      <th>Year Founded</th>\n",
       "      <th>Funding</th>\n",
       "      <th>Select Investors</th>\n",
       "      <th>valuation</th>\n",
       "      <th>funding</th>\n",
       "      <th>investors</th>\n",
       "      <th>investor</th>\n",
       "    </tr>\n",
       "  </thead>\n",
       "  <tbody>\n",
       "    <tr>\n",
       "      <th>4</th>\n",
       "      <td>4</td>\n",
       "      <td>1</td>\n",
       "      <td>SpaceX</td>\n",
       "      <td>$100B</td>\n",
       "      <td>2012-12-01</td>\n",
       "      <td>Other</td>\n",
       "      <td>Hawthorne</td>\n",
       "      <td>United States</td>\n",
       "      <td>North America</td>\n",
       "      <td>2002</td>\n",
       "      <td>$7B</td>\n",
       "      <td>Founders Fund, Draper Fisher Jurvetson, Rothenberg Ventures</td>\n",
       "      <td>100000000000</td>\n",
       "      <td>7000000000</td>\n",
       "      <td>FOUNDERS FUND</td>\n",
       "      <td>FOUNDERS FUND</td>\n",
       "    </tr>\n",
       "    <tr>\n",
       "      <th>5</th>\n",
       "      <td>5</td>\n",
       "      <td>1</td>\n",
       "      <td>SpaceX</td>\n",
       "      <td>$100B</td>\n",
       "      <td>2012-12-01</td>\n",
       "      <td>Other</td>\n",
       "      <td>Hawthorne</td>\n",
       "      <td>United States</td>\n",
       "      <td>North America</td>\n",
       "      <td>2002</td>\n",
       "      <td>$7B</td>\n",
       "      <td>Founders Fund, Draper Fisher Jurvetson, Rothenberg Ventures</td>\n",
       "      <td>100000000000</td>\n",
       "      <td>7000000000</td>\n",
       "      <td>DRAPER FISHER JURVETSON</td>\n",
       "      <td>DRAPER FISHER JURVETSON</td>\n",
       "    </tr>\n",
       "    <tr>\n",
       "      <th>6</th>\n",
       "      <td>6</td>\n",
       "      <td>1</td>\n",
       "      <td>SpaceX</td>\n",
       "      <td>$100B</td>\n",
       "      <td>2012-12-01</td>\n",
       "      <td>Other</td>\n",
       "      <td>Hawthorne</td>\n",
       "      <td>United States</td>\n",
       "      <td>North America</td>\n",
       "      <td>2002</td>\n",
       "      <td>$7B</td>\n",
       "      <td>Founders Fund, Draper Fisher Jurvetson, Rothenberg Ventures</td>\n",
       "      <td>100000000000</td>\n",
       "      <td>7000000000</td>\n",
       "      <td>ROTHENBERG VENTURES</td>\n",
       "      <td>ROTHENBERG VENTURES</td>\n",
       "    </tr>\n",
       "  </tbody>\n",
       "</table>\n",
       "</div>"
      ],
      "text/plain": [
       "   Unnamed: 0.1  Unnamed: 0 Company Valuation Date Joined Industry       City  \\\n",
       "4             4           1  SpaceX     $100B  2012-12-01    Other  Hawthorne   \n",
       "5             5           1  SpaceX     $100B  2012-12-01    Other  Hawthorne   \n",
       "6             6           1  SpaceX     $100B  2012-12-01    Other  Hawthorne   \n",
       "\n",
       "         Country      Continent  Year Founded Funding  \\\n",
       "4  United States  North America          2002     $7B   \n",
       "5  United States  North America          2002     $7B   \n",
       "6  United States  North America          2002     $7B   \n",
       "\n",
       "                                              Select Investors     valuation  \\\n",
       "4  Founders Fund, Draper Fisher Jurvetson, Rothenberg Ventures  100000000000   \n",
       "5  Founders Fund, Draper Fisher Jurvetson, Rothenberg Ventures  100000000000   \n",
       "6  Founders Fund, Draper Fisher Jurvetson, Rothenberg Ventures  100000000000   \n",
       "\n",
       "      funding                investors                 investor  \n",
       "4  7000000000            FOUNDERS FUND            FOUNDERS FUND  \n",
       "5  7000000000  DRAPER FISHER JURVETSON  DRAPER FISHER JURVETSON  \n",
       "6  7000000000      ROTHENBERG VENTURES      ROTHENBERG VENTURES  "
      ]
     },
     "execution_count": 41,
     "metadata": {},
     "output_type": "execute_result"
    }
   ],
   "source": [
    "data_investors[data_investors['Company']=='SpaceX']"
   ]
  },
  {
   "cell_type": "code",
   "execution_count": null,
   "metadata": {},
   "outputs": [],
   "source": []
  },
  {
   "cell_type": "code",
   "execution_count": null,
   "metadata": {},
   "outputs": [],
   "source": []
  }
 ],
 "metadata": {
  "kernelspec": {
   "display_name": "Python 3 (ipykernel)",
   "language": "python",
   "name": "python3"
  },
  "language_info": {
   "codemirror_mode": {
    "name": "ipython",
    "version": 3
   },
   "file_extension": ".py",
   "mimetype": "text/x-python",
   "name": "python",
   "nbconvert_exporter": "python",
   "pygments_lexer": "ipython3",
   "version": "3.11.0"
  }
 },
 "nbformat": 4,
 "nbformat_minor": 4
}
