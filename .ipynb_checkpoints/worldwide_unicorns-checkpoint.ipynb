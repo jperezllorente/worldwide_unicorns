{
 "cells": [
  {
   "cell_type": "code",
   "execution_count": 23,
   "metadata": {},
   "outputs": [],
   "source": [
    "import pandas as pd\n",
    "import numpy as np\n",
    "pd.options.display.max_colwidth = 100"
   ]
  },
  {
   "cell_type": "code",
   "execution_count": 2,
   "metadata": {},
   "outputs": [],
   "source": [
    "data = pd.read_csv('data\\\\unicorn_companies.csv')"
   ]
  },
  {
   "cell_type": "code",
   "execution_count": 3,
   "metadata": {},
   "outputs": [
    {
     "data": {
      "text/plain": [
       "(1074, 10)"
      ]
     },
     "execution_count": 3,
     "metadata": {},
     "output_type": "execute_result"
    }
   ],
   "source": [
    "data.shape"
   ]
  },
  {
   "cell_type": "code",
   "execution_count": 4,
   "metadata": {},
   "outputs": [
    {
     "data": {
      "text/plain": [
       "Company             object\n",
       "Valuation           object\n",
       "Date Joined         object\n",
       "Industry            object\n",
       "City                object\n",
       "Country             object\n",
       "Continent           object\n",
       "Year Founded         int64\n",
       "Funding             object\n",
       "Select Investors    object\n",
       "dtype: object"
      ]
     },
     "execution_count": 4,
     "metadata": {},
     "output_type": "execute_result"
    }
   ],
   "source": [
    "data.dtypes"
   ]
  },
  {
   "cell_type": "code",
   "execution_count": 3,
   "metadata": {},
   "outputs": [],
   "source": [
    "data.fillna('Unknown', inplace=True)"
   ]
  },
  {
   "cell_type": "code",
   "execution_count": 4,
   "metadata": {},
   "outputs": [
    {
     "data": {
      "text/plain": [
       "Fintech                                224\n",
       "Internet software & services           205\n",
       "E-commerce & direct-to-consumer        111\n",
       "Health                                  74\n",
       "Artificial intelligence                 73\n",
       "Other                                   58\n",
       "Supply chain, logistics, & delivery     57\n",
       "Cybersecurity                           50\n",
       "Data management & analytics             41\n",
       "Mobile & telecommunications             38\n",
       "Hardware                                34\n",
       "Auto & transportation                   31\n",
       "Edtech                                  28\n",
       "Consumer & retail                       25\n",
       "Travel                                  14\n",
       "Artificial Intelligence                 11\n",
       "Name: Industry, dtype: int64"
      ]
     },
     "execution_count": 4,
     "metadata": {},
     "output_type": "execute_result"
    }
   ],
   "source": [
    "data.Industry.value_counts()"
   ]
  },
  {
   "cell_type": "markdown",
   "metadata": {},
   "source": [
    "There are are two entries for Aritificial Intelligence only differencing in the capsize of the Intelligence"
   ]
  },
  {
   "cell_type": "code",
   "execution_count": 5,
   "metadata": {},
   "outputs": [],
   "source": [
    "data['Industry'] = data['Industry'].replace(to_replace='Artificial intelligence', value='Artificial Intelligence', regex=True)"
   ]
  },
  {
   "cell_type": "markdown",
   "metadata": {},
   "source": [
    "### Valuation and Funding are monetary values and appear as strings -> need to change the value format to integer (x1,000,000,000 if B and 1,000,000 if M)"
   ]
  },
  {
   "cell_type": "code",
   "execution_count": 6,
   "metadata": {},
   "outputs": [],
   "source": [
    "def changing_to_monetary(row,column):\n",
    "    if row[column] == 'Unknown':\n",
    "        return 0\n",
    "    elif 'M' in row[column]:\n",
    "        return int(row[column][1:][:-1])*1000000\n",
    "    elif 'B' in row[column]:\n",
    "        return int(row[column][1:][:-1])*1000000000"
   ]
  },
  {
   "cell_type": "code",
   "execution_count": 7,
   "metadata": {},
   "outputs": [],
   "source": [
    "data['valuation'] = data.apply(lambda row: changing_to_monetary(row,'Valuation'),axis=1)"
   ]
  },
  {
   "cell_type": "code",
   "execution_count": 8,
   "metadata": {},
   "outputs": [],
   "source": [
    "data['funding'] = data.apply(lambda row: changing_to_monetary(row,'Funding'),axis=1)"
   ]
  },
  {
   "cell_type": "code",
   "execution_count": 9,
   "metadata": {},
   "outputs": [],
   "source": [
    "data['investors'] = data.apply(lambda row: row['Select Investors'].split(','), axis=1)"
   ]
  },
  {
   "cell_type": "code",
   "execution_count": 10,
   "metadata": {},
   "outputs": [],
   "source": [
    "data_investors = data.explode('investors')"
   ]
  },
  {
   "cell_type": "code",
   "execution_count": 14,
   "metadata": {},
   "outputs": [],
   "source": [
    "data_investors['investors'] = data_investors.apply(lambda row: row['investors'].strip().upper(),axis=1)"
   ]
  },
  {
   "cell_type": "code",
   "execution_count": 24,
   "metadata": {},
   "outputs": [],
   "source": [
    "def group_investors(row):\n",
    "    \n",
    "    investor_list = ['500 Startups','Accel', 'Activant', 'Alibaba Group', 'Baidu Capital',\n",
    "                 'Bain', 'Bank Of China', 'Bertelsmann', 'Bond Capital', 'Coatue',\n",
    "                'D1 Capital Partners','DFJ', 'Dragonfly Capital Partners', 'Draper Fisher Juvertson',\n",
    "                'Eastern Bell Capital', 'Eqt Partners', 'Fidelity Investments', 'Ftx Ventures', 'Goldman Sachs',\n",
    "                'Google', 'Hanaco Venture Capital','Highland Capital Partners','Iconiq Capital', 'Idg Capital Partners',\n",
    "                'Insight Venture Partner', 'Jd Capital Management','K2 Venutes', 'Kleiner Perkins Caufield & Byers',\n",
    "                'Lightspeed Partners', 'Lowercase Capital', 'Matrix Partners', 'Maverick Capital','Mayfield Fund', \n",
    "                 'Micrososft','Mithril Capital Management', 'Morningside Group','Paladin Capital Group', \n",
    "                 'Providence Equity Partners','Rakuten','Redpoint Ventures','Revolution', 'Saif Parthners', 'Sbi Investment',\n",
    "                'Sequoia Capital','Shenzen Capital Group']\n",
    "    \n",
    "    count = 0\n",
    "    for number in range(0, len(investor_list)):\n",
    "        count+=1\n",
    "        if count < len(investor_list):\n",
    "            if investor_list[number].upper() in row['investors']:\n",
    "                return investor_list[number].upper()\n",
    "            else:\n",
    "                pass\n",
    "        elif count >= len(investor_list):\n",
    "            return row['investors']\n",
    "\n",
    "            \n",
    "        "
   ]
  },
  {
   "cell_type": "code",
   "execution_count": 33,
   "metadata": {},
   "outputs": [],
   "source": [
    "data_investors['investor']=data_investors.apply(lambda row: group_investors(row), axis=1)"
   ]
  },
  {
   "cell_type": "code",
   "execution_count": 37,
   "metadata": {},
   "outputs": [],
   "source": [
    "data_investors.to_csv('C:\\\\Users\\\\juanp\\\\proyectos_varios\\\\worldwide_unicorns\\\\data\\\\investors.csv')"
   ]
  },
  {
   "cell_type": "code",
   "execution_count": 25,
   "metadata": {},
   "outputs": [],
   "source": [
    "x = pd.read_csv('data\\\\investors.csv')"
   ]
  }
 ],
 "metadata": {
  "kernelspec": {
   "display_name": "Python 3 (ipykernel)",
   "language": "python",
   "name": "python3"
  },
  "language_info": {
   "codemirror_mode": {
    "name": "ipython",
    "version": 3
   },
   "file_extension": ".py",
   "mimetype": "text/x-python",
   "name": "python",
   "nbconvert_exporter": "python",
   "pygments_lexer": "ipython3",
   "version": "3.11.0"
  }
 },
 "nbformat": 4,
 "nbformat_minor": 4
}
